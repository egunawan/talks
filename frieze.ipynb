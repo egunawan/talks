{
 "cells": [
  {
   "cell_type": "markdown",
   "metadata": {},
   "source": [
    "\n",
    "# Conway - Coxeter frieze (1970s)\n",
    "A **Conway - Coxeter frieze** is an array of integers such that\n",
    "* the first two rows are a row of $0$s and a row of $1$s\n",
    "* the other rows consist of positive integers\n",
    "* every diamond\n",
    "$$\n",
    " \\begin{array}{ccccccc}\n",
    " &b&\\\\[-1pt]\n",
    " a&&d\\\\[-1pt]\n",
    " &c&\n",
    "\\end{array}$$ satisfies the \n",
    "rule\n",
    "$ad-bc=1$.\n",
    "\n",
    "### Example\n",
    "\n",
    "\\begin{equation*}\n",
    "%\\small\n",
    " \\begin{array}{lcccccccccccccccccccccccc}\n",
    "&&&1&&1&& 1&&1&&1&&1&&1&& \\cdots\\\\[4pt]\n",
    "\\text{Row $2$}\n",
    "&&\\cdots&&\\mathbf{{3}}&&\\mathbf{1}&&\\mathbf{2}&&\\mathbf{2}&&\\mathbf{1}&&3&&1&&\n",
    " \\\\[4pt]\n",
    "&&&2&&2&&1&&3&&1&&2&&2&&\\cdots&\\\n",
    " \\\\[4pt]\n",
    "&&\\cdots&&1&&1&&1&&1&&1&&1&&1&&\n",
    "\\end{array}\n",
    "\\end{equation*}\n",
    "Note: every frieze pattern is completely determined by the 2nd row."
   ]
  },
  {
   "cell_type": "markdown",
   "metadata": {},
   "source": [
    "# Fomin - Zelevinsky Cluster Algebra (2001)\n",
    "\n",
    "Let Q be a **quiver** (a directed graph) on $n$ vertices with no loop and no 2-cycle"
   ]
  },
  {
   "cell_type": "code",
   "execution_count": 20,
   "metadata": {
    "scrolled": true
   },
   "outputs": [
    {
     "data": {
      "image/png": "[encoded data removed]",
      "text/plain": [
       "Graphics object consisting of 11 graphics primitives"
      ]
     },
     "metadata": {},
     "output_type": "display_data"
    }
   ],
   "source": [
    "Q=ClusterQuiver([[1,0],[2,1],[2,0]])\n",
    "Q.show()"
   ]
  },
  {
   "cell_type": "markdown",
   "metadata": {},
   "source": [
    "A **cluster algebra from $Q$** is a subalgebra $A$ of the field of rational functions in $n$ variables. The generators of $A$ are called **cluster variables**, which can be computed from $Q$ as explained below."
   ]
  },
  {
   "cell_type": "code",
   "execution_count": 21,
   "metadata": {},
   "outputs": [
    {
     "data": {
      "text/plain": [
       "A Cluster Algebra with cluster variables x0, x1, x2 and no coefficients over Integer Ring"
      ]
     },
     "execution_count": 21,
     "metadata": {},
     "output_type": "execute_result"
    }
   ],
   "source": [
    "A=ClusterAlgebra(Q)\n",
    "A"
   ]
  },
  {
   "cell_type": "markdown",
   "metadata": {},
   "source": [
    "### Initial Seed (cluster + quiver)\n",
    "\n",
    "Start with an initial **cluster** (a set of **cluster variables**) of size n."
   ]
  },
  {
   "cell_type": "code",
   "execution_count": 22,
   "metadata": {},
   "outputs": [
    {
     "data": {
      "text/plain": [
       "[x0, x1, x2]"
      ]
     },
     "execution_count": 22,
     "metadata": {},
     "output_type": "execute_result"
    }
   ],
   "source": [
    "S=A.initial_seed()\n",
    "S.cluster_variables()"
   ]
  },
  {
   "cell_type": "markdown",
   "metadata": {},
   "source": [
    "### Mutation\n",
    "We can **mutate** a cluster at each of the vertices 0,1, 2, $\\dots$, n."
   ]
  },
  {
   "cell_type": "code",
   "execution_count": 23,
   "metadata": {},
   "outputs": [
    {
     "data": {
      "text/plain": [
       "[(x1*x2 + 1)/x0, x1, x2]"
      ]
     },
     "execution_count": 23,
     "metadata": {},
     "output_type": "execute_result"
    }
   ],
   "source": [
    "S=A.initial_seed()\n",
    "S.mutate(0)\n",
    "S.cluster_variables()"
   ]
  },
  {
   "cell_type": "markdown",
   "metadata": {},
   "source": [
    "We get a new quiver by reversing all arrows adjacent to vertex $0$."
   ]
  },
  {
   "cell_type": "code",
   "execution_count": 24,
   "metadata": {},
   "outputs": [
    {
     "data": {
      "image/png": "[encoded data removed]",
      "text/plain": [
       "Graphics object consisting of 11 graphics primitives"
      ]
     },
     "metadata": {},
     "output_type": "display_data"
    }
   ],
   "source": [
    "ClusterQuiver(S.b_matrix()).show()"
   ]
  },
  {
   "cell_type": "markdown",
   "metadata": {},
   "source": [
    "### Mutating all clusters\n",
    "\n",
    "Continue mutating all clusters at all vertices."
   ]
  },
  {
   "cell_type": "code",
   "execution_count": 25,
   "metadata": {},
   "outputs": [
    {
     "data": {
      "text/plain": [
       "[(x1*x2 + 1)/x0, (x1*x2^2 + x0 + x2)/(x0*x1), x2]"
      ]
     },
     "execution_count": 25,
     "metadata": {},
     "output_type": "execute_result"
    }
   ],
   "source": [
    "S=A.initial_seed()\n",
    "S.mutate([0,1])\n",
    "S.cluster_variables()"
   ]
  },
  {
   "cell_type": "markdown",
   "metadata": {},
   "source": [
    "### Theorem (Laurent Phenomenon and Positivity): \n",
    "Every cluster variable is a Laurent polynomial with positive coefficients in the initial cluster variables, that is, every cluster variable $x$ is\n",
    "$$x=\\frac{g(x_1,\\dots,x_n)}{x_1^{d_1} \\dots x_n^{d_n}}$$ where $g(x_1,\\dots,x_n)\\in \\mathbb{Z}_{>0}[x_1,\\dots,x_n]$, that is, a polynomial with positive coefficients. "
   ]
  },
  {
   "cell_type": "code",
   "execution_count": 26,
   "metadata": {
    "scrolled": true
   },
   "outputs": [
    {
     "name": "stdout",
     "output_type": "stream",
     "text": [
      "(x1^2*x2^4 + x0^3*x1 + x0^2*x1*x2 + 2*x0*x1*x2^2 + 2*x1*x2^3 + x0^2 + 2*x0*x2 + x2^2)/(x0^2*x1^2*x2)\n",
      "\n",
      "(x0 + x2)/x1\n",
      "\n",
      "(x1^3*x2^6 + x0^5*x1^2 + x0^4*x1^2*x2 + 2*x0^3*x1^2*x2^2 + 2*x0^2*x1^2*x2^3 + 3*x0*x1^2*x2^4 + 3*x1^2*x2^5 + 2*x0^4*x1 + 4*x0^3*x1*x2 + 5*x0^2*x1*x2^2 + 6*x0*x1*x2^3 + 3*x1*x2^4 + x0^3 + 3*x0^2*x2 + 3*x0*x2^2 + x2^3)/(x0^3*x1^3*x2^2)\n",
      "\n"
     ]
    }
   ],
   "source": [
    "S=A.initial_seed()\n",
    "S.mutate([0,1,2,0,1,2,1])\n",
    "for x in S.cluster_variables():\n",
    "    print(x)\n",
    "    print('')"
   ]
  },
  {
   "cell_type": "markdown",
   "metadata": {},
   "source": [
    "# Friezes (over an integral domain)\n",
    "In general, a **frieze** (of type $A$) is an array of elements of an *integral domain* such that\n",
    "* the first two rows are a row of $0$s and a row of $1$s\n",
    "* every diamond\n",
    "\n",
    "$$\n",
    " \\begin{array}{ccccccc}\n",
    " &b&\\\\[-1pt]\n",
    " a&&d\\\\[-1pt]\n",
    " &c&\n",
    "\\end{array}$$ satisfies the \n",
    "rule\n",
    "$ad-bc=1$. \n",
    "\n",
    "\n",
    "### Example\n",
    "Note: I did not draw the row of $0$s and $1$s.\n",
    "$$\n",
    "\\begin{align*} \n",
    "&\\hspace{10pt} x_3\\hspace{10pt}  &&\n",
    " \\frac{x_1x_3+1+x_2}{x_2x_3}  &&\n",
    " \\frac{x_2+1}{x_1} &&\n",
    " \\hspace{10pt} x_1\n",
    " \\hspace{10pt} \\\\\n",
    "\\hspace{5pt} x_2\\hspace{5pt}  &&\n",
    " \\frac{x_1x_3+1}{x_2}  &&\n",
    "\\hspace{-5pt} \\hspace{-5pt} \\frac{x_2^2+2x_2+1+x_1x_3}{x_1x_2x_3}\\hspace{-5pt}\\hspace{-5pt}  &&\n",
    " \\hspace{5pt} x_2\\hspace{5pt}   &&\n",
    "\\\\\n",
    "& \\hspace{10pt} x_1  &&\n",
    "  \\frac{x_1x_3+1+x_2}{x_1x_2}  &&\n",
    "  \\frac{x_2+1}{x_3}  &&\n",
    " \\hspace{10pt}  x_3\n",
    "\\end{align*}\n",
    "$$"
   ]
  },
  {
   "cell_type": "markdown",
   "metadata": {},
   "source": [
    "# References\n",
    "### Websites:\n",
    "* [Wikipedia entry](https://en.wikipedia.org/wiki/Cluster_algebra)\n",
    "* [Cluster Algebras Portal](http://www.math.lsa.umich.edu/~fomin/cluster.html)\n",
    "\n",
    "### arXiv.org:\n",
    "* [Introductory cluster algebra survey by Lauren Williams titled *Cluster algebras: an Introduction*](https://arxiv.org/abs/1212.6263)\n",
    "* [Cluster algebra textbook by Sergey Fomin, Lauren Williams, Andrei Zelevinsky titled *Introduction to cluster algebras*](https://arxiv.org/abs/1608.05735)\n",
    "* [Frieze survey by Sophie Morier-Genoud titled *Coxeter's frieze patterns at the crossroads of algebra, geometry and combinatorics*](https://arxiv.org/abs/1503.05049)\n",
    "* [Frieze paper by Emily Gunawan and Ralf Schiffler titled *Frieze vectors and unitary friezes*](https://arxiv.org/abs/1806.00940)\n"
   ]
  },
  {
   "cell_type": "code",
   "execution_count": null,
   "metadata": {},
   "outputs": [],
   "source": []
  }
 ],
 "metadata": {
  "kernelspec": {
   "display_name": "SageMath 8.2",
   "language": "",
   "name": "sagemath"
  },
  "language_info": {
   "codemirror_mode": {
    "name": "ipython",
    "version": 2
   },
   "file_extension": ".py",
   "mimetype": "text/x-python",
   "name": "python",
   "nbconvert_exporter": "python",
   "pygments_lexer": "ipython2",
   "version": "2.7.14"
  }
 },
 "nbformat": 4,
 "nbformat_minor": 2
}
